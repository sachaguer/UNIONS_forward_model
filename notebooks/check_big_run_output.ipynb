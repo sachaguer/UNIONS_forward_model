{
 "cells": [
  {
   "cell_type": "code",
   "execution_count": 2,
   "id": "8a61156d-db30-4ce2-9586-f7b05e152d91",
   "metadata": {},
   "outputs": [],
   "source": [
    "%load_ext autoreload\n",
    "%autoreload 2\n",
    "\n",
    "import os\n",
    "import sys\n",
    "\n",
    "parent_dir = os.path.abspath(os.path.join(os.getcwd(), os.pardir))\n",
    "sys.path.append(parent_dir)\n",
    "\n",
    "import numpy as np\n",
    "import healpy as hp\n",
    "import matplotlib.pyplot as plt\n",
    "import pymaster as nmt\n",
    "from astropy.io import fits\n",
    "from tqdm import tqdm\n",
    "import camb\n",
    "\n",
    "import glass.shells\n",
    "import glass.lensing\n",
    "\n",
    "from mass_mapping import kaiser_squire"
   ]
  },
  {
   "cell_type": "code",
   "execution_count": 3,
   "id": "e3dc2c30-021c-40b8-b50f-93b1113c0886",
   "metadata": {},
   "outputs": [
    {
     "name": "stdout",
     "output_type": "stream",
     "text": [
      "[1.         0.99999995 0.99999984 ... 0.82759132 0.82743558 0.8272798 ]\n"
     ]
    }
   ],
   "source": [
    "nside = 1024\n",
    "lmax = 2*nside\n",
    "pw = hp.pixwin(nside, lmax=lmax)\n",
    "print(pw)"
   ]
  },
  {
   "cell_type": "code",
   "execution_count": 4,
   "id": "2c54b2a2-180b-4fbf-bd92-a4f6bd445710",
   "metadata": {},
   "outputs": [
    {
     "name": "stderr",
     "output_type": "stream",
     "text": [
      "100%|██████████| 791/791 [1:21:49<00:00,  6.21s/it]\n"
     ]
    }
   ],
   "source": [
    "sim_cls = []\n",
    "camb_cls = []\n",
    "\n",
    "for i in tqdm(range(791)):\n",
    "    path_sim = f\"/lustre/fswork/projects/rech/prk/commun/GowerStreetSims/full_sky_processing/forward_model_sim{i+1:05d}_nside1024_rot00_noisereal0.npy\"\n",
    "    if os.path.exists(path_sim) and i+1 not in [150, 247, 281, 315, 659, 785, 786, 787]:\n",
    "        output = np.load(path_sim, allow_pickle=True).item()\n",
    "    else:\n",
    "        continue\n",
    "    #Checking the power spectrum of the convergence and shear fields\n",
    "    #Load parameters for the cosmology\n",
    "    h = output['cosmo_params'][\"h\"]\n",
    "    Om = output['cosmo_params'][\"Omega_m\"]\n",
    "    Ob = output['cosmo_params'][\"Omega_b\"]\n",
    "    Oc = Om - Ob\n",
    "    ns = output['cosmo_params'][\"n_s\"]\n",
    "    m_nu = output['cosmo_params'][\"m_nu\"]\n",
    "    w = output['cosmo_params'][\"w\"]\n",
    "    As = output['cosmo_params'][\"A_s\"]\n",
    "    \n",
    "    nside = 1024\n",
    "    lmax = 2*nside\n",
    "    \n",
    "    pars = camb.set_params(H0=100*h, omch2=Oc*h**2, ombh2=Ob*h**2, ns=ns, mnu=m_nu, w=w, As=As, WantTransfer=True, NonLinear=camb.model.NonLinear_both)\n",
    "    Onu = pars.omeganu\n",
    "    Oc = Om - Ob - Onu\n",
    "    pars = camb.set_params(H0=100*h, omch2=Oc*h**2, ombh2=Ob*h**2, ns=ns, mnu=m_nu, w=w, As=As, WantTransfer=True, NonLinear=camb.model.NonLinear_both)\n",
    "    \n",
    "    #get the angular power spectra of the lensing map\n",
    "    sim_cls.append(output['bin_1']['cl_FS_gamma'][0])\n",
    "    \n",
    "    redshift_distr = np.loadtxt(output['config']['redshift_distribution']['path_dndz'])\n",
    "    z, dndz = redshift_distr[:, 0], redshift_distr[:, 1]\n",
    "    \n",
    "    #getthe expected cl's from CAMB\n",
    "    pars.min_l = 1\n",
    "    pars.set_for_lmax(lmax)\n",
    "    pars.SourceWindows = [\n",
    "        camb.sources.SplinedSourceWindow(z=z, W=dndz, source_type='lensing')\n",
    "    ]\n",
    "    theory_cls = camb.get_results(pars).get_source_cls_dict(lmax=lmax, raw_cl=True)\n",
    "    camb_cls.append(theory_cls['W1xW1']*pw**2)"
   ]
  },
  {
   "cell_type": "code",
   "execution_count": 5,
   "id": "b8149ebe-1650-429c-b2a2-7f33ecb4a400",
   "metadata": {},
   "outputs": [],
   "source": [
    "sim_cls = np.array(sim_cls)\n",
    "camb_cls = np.array(camb_cls)"
   ]
  },
  {
   "cell_type": "code",
   "execution_count": 6,
   "id": "3332e187-2e88-44cf-bc02-6df2510c4df7",
   "metadata": {},
   "outputs": [
    {
     "name": "stderr",
     "output_type": "stream",
     "text": [
      "/tmp/ipykernel_2440820/2732921704.py:1: RuntimeWarning: divide by zero encountered in divide\n",
      "  ratio_cls = sim_cls/camb_cls\n"
     ]
    }
   ],
   "source": [
    "ratio_cls = sim_cls/camb_cls"
   ]
  },
  {
   "cell_type": "code",
   "execution_count": 7,
   "id": "b825d61e-fff9-4d80-a0a2-c1641d306721",
   "metadata": {},
   "outputs": [
    {
     "name": "stderr",
     "output_type": "stream",
     "text": [
      "/linkhome/rech/genaim01/uid35yw/.conda/envs/glass/lib/python3.12/site-packages/numpy/core/_methods.py:173: RuntimeWarning: invalid value encountered in subtract\n",
      "  x = asanyarray(arr - arrmean)\n"
     ]
    }
   ],
   "source": [
    "mean_ratio_cls = np.mean(ratio_cls, axis=0)\n",
    "std_ratio_cls = np.std(ratio_cls, axis=0)"
   ]
  },
  {
   "cell_type": "code",
   "execution_count": 9,
   "id": "99e1c181-6f33-4c3b-bc57-fb597a3dfcfb",
   "metadata": {},
   "outputs": [
    {
     "name": "stderr",
     "output_type": "stream",
     "text": [
      "/tmp/ipykernel_2440820/1188543074.py:15: UserWarning: No artists with labels found to put in legend.  Note that artists whose label start with an underscore are ignored when legend() is called with no argument.\n",
      "  plt.legend()\n"
     ]
    },
    {
     "data": {
      "text/plain": [
       "Text(0.5, 1.0, 'Power spectra on the full-sky maps')"
      ]
     },
     "execution_count": 9,
     "metadata": {},
     "output_type": "execute_result"
    },
    {
     "data": {
      "image/png": "[encoded data removed]",
      "text/plain": [
       "<Figure size 640x480 with 1 Axes>"
      ]
     },
     "metadata": {},
     "output_type": "display_data"
    }
   ],
   "source": [
    "plt.figure()\n",
    "\n",
    "lmax = 2*nside\n",
    "l = np.arange(lmax+1)\n",
    "#for i in range(510, 520):\n",
    "#    plt.plot(l, ratio_cls[i], c='g', alpha=0.5)\n",
    "plt.plot(l, mean_ratio_cls, c='r', ls='-')\n",
    "\n",
    "plt.axhline(1, linestyle='--', c='k')\n",
    "plt.axhline(1.02, c='k', alpha=0.5)\n",
    "plt.axhline(0.98, c='k', alpha=0.5)\n",
    "\n",
    "plt.xlabel(r'$\\ell$')\n",
    "plt.ylabel(r'$C_{\\ell \\rm{sim}}/C_{\\ell \\rm{theory}}$')\n",
    "plt.legend()\n",
    "\n",
    "plt.xscale('log')\n",
    "plt.xlim(10, 1000)\n",
    "\n",
    "plt.title('Power spectra on the full-sky maps')"
   ]
  },
  {
   "cell_type": "code",
   "execution_count": 44,
   "id": "b9e9627b-73b2-44b8-b283-63b9edde984d",
   "metadata": {},
   "outputs": [
    {
     "data": {
      "text/plain": [
       "array([0.00000000e+00, 2.33283177e-08, 2.48850024e-08, ...,\n",
       "       1.11158000e-10, 1.10998224e-10, 1.10838766e-10])"
      ]
     },
     "execution_count": 44,
     "metadata": {},
     "output_type": "execute_result"
    }
   ],
   "source": [
    "camb_cls[0]"
   ]
  },
  {
   "cell_type": "code",
   "execution_count": 23,
   "id": "cff868b1-72e3-4fb3-abd4-07584f43322b",
   "metadata": {},
   "outputs": [
    {
     "data": {
      "text/plain": [
       "array([       nan, 0.64430107, 0.52194416, ..., 1.19338   , 1.17868601,\n",
       "       1.20762018])"
      ]
     },
     "execution_count": 23,
     "metadata": {},
     "output_type": "execute_result"
    }
   ],
   "source": [
    "std_ratio_cls"
   ]
  },
  {
   "cell_type": "code",
   "execution_count": 45,
   "id": "d949c8f7-757b-4e47-9b5c-248feab15600",
   "metadata": {},
   "outputs": [
    {
     "data": {
      "text/plain": [
       "array([1.        , 0.99999995, 0.99999984, ..., 0.95442017, 0.95433269,\n",
       "       0.95424514], dtype='>f8')"
      ]
     },
     "execution_count": 45,
     "metadata": {},
     "output_type": "execute_result"
    }
   ],
   "source": [
    "pw"
   ]
  },
  {
   "cell_type": "code",
   "execution_count": 26,
   "id": "0abbdc16-fb4d-49b1-8fc2-2c0fb016c66d",
   "metadata": {},
   "outputs": [],
   "source": [
    "i = 2\n",
    "path_sim = f\"/lustre/fswork/projects/rech/prk/commun/GowerStreetSims/UNIONS_processing/forward_model_sim{i+1:05d}_nside0512_rot00_noisereal0.npy\"\n",
    "if os.path.exists(path_sim):\n",
    "    output = np.load(path_sim, allow_pickle=True).item()"
   ]
  },
  {
   "cell_type": "code",
   "execution_count": 27,
   "id": "a4cbe8eb-0ad1-44a2-869d-c9e82fca7825",
   "metadata": {},
   "outputs": [
    {
     "data": {
      "text/plain": [
       "{'cosmo_params': {'h': array([0.72268436]),\n",
       "  'Omega_m': array([0.33047284]),\n",
       "  'Omega_b': array([0.04294964]),\n",
       "  'sigma_8': array([0.60764534]),\n",
       "  'n_s': array([0.95235846]),\n",
       "  'w': array([-1.22975854]),\n",
       "  'm_nu': array([0.06]),\n",
       "  'A_s': array([1.0000006e-09])},\n",
       " 'config': {'intrinsic_alignment': {'add_ia': 'T',\n",
       "   'prior_A_ia': [0.5, 0.8],\n",
       "   'prior_A_ia_type': 'gaussian'},\n",
       "  'n_noise_real': 2,\n",
       "  'preprocessing': {'nside': 512},\n",
       "  'psf_systematic': {'add_systematic': 'T',\n",
       "   'dec_col': 'DEC',\n",
       "   'e1_psf_col': 'E1_PSF_HSM',\n",
       "   'e1_star_col': 'E1_STAR_HSM',\n",
       "   'e2_psf_col': 'E2_PSF_HSM',\n",
       "   'e2_star_col': 'E2_STAR_HSM',\n",
       "   'hdu': 1,\n",
       "   'path_prior_params': '/lustre/fswork/projects/rech/prk/uid35yw/UNIONS_forward_model/data_utils/prior_psf_sys_SP_v1.4.5_leak_corr.npy',\n",
       "   'path_psf': '/lustre/fsn1/projects/rech/prk/uid35yw/unions_shapepipe_psf_2024_v1.4.a.fits',\n",
       "   'ra_col': 'RA',\n",
       "   'size_psf_col': 'SIGMA_PSF_HSM',\n",
       "   'size_star_col': 'SIGMA_STAR_HSM',\n",
       "   'square_size': True},\n",
       "  'ray_tracing': {'method': 'glass',\n",
       "   'reduced_shear': 'T',\n",
       "   'save_ray_tracing': 'F'},\n",
       "  'redshift_distribution': {'bias_sc': 1.0,\n",
       "   'delta_z': '/lustre/fswork/projects/rech/prk/uid35yw/UNIONS_forward_model/data_utils/delta_z_prior.txt',\n",
       "   'm_bias': '/lustre/fswork/projects/rech/prk/uid35yw/UNIONS_forward_model/data_utils/m_bias_prior.txt',\n",
       "   'nbins': 1,\n",
       "   'path_dndz': '/lustre/fswork/projects/rech/prk/uid35yw/UNIONS_forward_model/data_utils/nz_shapepipe_v1.4.5.txt',\n",
       "   'save': 'F',\n",
       "   'save_cl': 'T',\n",
       "   'weight_w_redshift': 'T'},\n",
       "  'rot_dec': [0, 1, 2, 3, 4],\n",
       "  'rot_ra': [0, 1, 2, 3, 4],\n",
       "  'shape_noise': {'add_shape_noise': 'T',\n",
       "   'dec_col': 'Dec',\n",
       "   'e1_col': 'e1_leak_corrected',\n",
       "   'e2_col': 'e2_leak_corrected',\n",
       "   'path_gal': '/lustre/fsn1/projects/rech/prk/uid35yw/unions_shapepipe_cut_struc_2024_v1.4.5.fits',\n",
       "   'ra_col': 'RA',\n",
       "   'save': 'T',\n",
       "   'w_col': 'w_des'},\n",
       "  'simulation': {'path_info': '/lustre/fsmisc/dataset/GowerStreetSims/PKDGRAV3_on_DiRAC_DES_330 - Sheet1.csv',\n",
       "   'path_output': '/lustre/fswork/projects/rech/prk/commun/GowerStreetSims/UNIONS_processing/',\n",
       "   'path_simulation': '/lustre/fsmisc/dataset/GowerStreetSims/',\n",
       "   'sim_name': 'GowerStreet',\n",
       "   'sim_number': 3},\n",
       "  'validation_plot': 'F',\n",
       "  'verbose': 'T'},\n",
       " 'bin_1': {'cl_FS_gamma': array([[ 8.89266302e-21,  4.81821191e-09,  6.46609434e-09, ...,\n",
       "           6.04682007e-11,  6.14090137e-11,  6.11941588e-11],\n",
       "         [ 0.00000000e+00,  0.00000000e+00,  4.35227629e-09, ...,\n",
       "           5.91591244e-11,  6.01135439e-11,  5.97234480e-11],\n",
       "         [ 0.00000000e+00,  0.00000000e+00,  3.42971615e-14, ...,\n",
       "           1.55828007e-16,  1.54325130e-16,  1.63026711e-16],\n",
       "         [-0.00000000e+00,  0.00000000e+00, -5.30477741e-09, ...,\n",
       "          -5.97957814e-11, -6.07430828e-11, -6.04401586e-11],\n",
       "         [ 0.00000000e+00,  0.00000000e+00,  2.90538361e-12, ...,\n",
       "           2.45584903e-16,  7.63058332e-16,  5.44927437e-16],\n",
       "         [-0.00000000e+00,  0.00000000e+00, -3.56629210e-12, ...,\n",
       "          -2.44259825e-16, -8.42882554e-16, -5.24639658e-16]]),\n",
       "  'masked_shear_map': array([ 0.00355045+0.00251428j,  0.00100083+0.00288927j,\n",
       "          0.00549709+0.00257091j, ..., -0.00072824+0.00442717j,\n",
       "         -0.00128917+0.00601254j, -0.00146488+0.00025527j]),\n",
       "  'noise_map': array([-0.04412378+0.04706139j,  0.0665268 +0.04648199j,\n",
       "          0.07717898+0.01487781j, ...,  0.00197056-0.05455651j,\n",
       "         -0.01371133+0.06789758j,  0.00897581-0.02595851j]),\n",
       "  'idx': array([  97552,   97553,   98438, ..., 1608921, 1608922, 1608923]),\n",
       "  'sys_map': array([-0.00010191-0.0023195j , -0.01089116-0.00228362j,\n",
       "          0.0044243 +0.0027356j , ...,  0.0078834 -0.00550663j,\n",
       "         -0.00839757+0.0092419j ,  0.02157234-0.02404277j]),\n",
       "  'idx_star': array([  66143,   66144,   66872, ..., 1629425, 1629427, 1629428])},\n",
       " 'nuisance_parameters': {'A_ia': 0.3706729990018678,\n",
       "  'eta_ia': 0.0,\n",
       "  'bin_1': {'delta_z': 0.022098323693479704,\n",
       "   'm_bias': 0.01605141931372428,\n",
       "   'alpha': 0.009854689961962,\n",
       "   'beta': 1.2217948437504578,\n",
       "   'eta': 0.8228360510695668}}}"
      ]
     },
     "execution_count": 27,
     "metadata": {},
     "output_type": "execute_result"
    }
   ],
   "source": [
    "output"
   ]
  },
  {
   "cell_type": "code",
   "execution_count": 2,
   "id": "4cf0b40f-86d2-4166-9eea-2165e3d91b1d",
   "metadata": {},
   "outputs": [
    {
     "name": "stderr",
     "output_type": "stream",
     "text": [
      " 55%|█████▍    | 159/291 [07:46<06:55,  3.15s/it]"
     ]
    },
    {
     "name": "stdout",
     "output_type": "stream",
     "text": [
      "Simulation 659\n"
     ]
    },
    {
     "name": "stderr",
     "output_type": "stream",
     "text": [
      " 98%|█████████▊| 285/291 [14:09<00:17,  2.96s/it]"
     ]
    },
    {
     "name": "stdout",
     "output_type": "stream",
     "text": [
      "Simulation 785\n"
     ]
    },
    {
     "name": "stderr",
     "output_type": "stream",
     "text": [
      " 98%|█████████▊| 286/291 [14:12<00:14,  2.94s/it]"
     ]
    },
    {
     "name": "stdout",
     "output_type": "stream",
     "text": [
      "Simulation 786\n"
     ]
    },
    {
     "name": "stderr",
     "output_type": "stream",
     "text": [
      " 99%|█████████▊| 287/291 [14:15<00:11,  2.93s/it]"
     ]
    },
    {
     "name": "stdout",
     "output_type": "stream",
     "text": [
      "Simulation 787\n"
     ]
    },
    {
     "name": "stderr",
     "output_type": "stream",
     "text": [
      "100%|██████████| 291/291 [14:27<00:00,  2.98s/it]\n"
     ]
    }
   ],
   "source": [
    "sim_cls = []\n",
    "camb_cls = []\n",
    "\n",
    "for i in tqdm(range(500, 791)):\n",
    "    path_sim = f\"/lustre/fswork/projects/rech/prk/commun/GowerStreetSims/full_sky_processing/forward_model_sim{i+1:05d}_nside1024_rot00_noisereal0.npy\"\n",
    "    if os.path.exists(path_sim):\n",
    "        output = np.load(path_sim, allow_pickle=True).item()\n",
    "    else:\n",
    "        continue\n",
    "    #Checking the power spectrum of the convergence and shear fields\n",
    "    #Load parameters for the cosmology\n",
    "    h = output['cosmo_params'][\"h\"]\n",
    "    Om = output['cosmo_params'][\"Omega_m\"]\n",
    "    Ob = output['cosmo_params'][\"Omega_b\"]\n",
    "    Oc = Om - Ob\n",
    "    ns = output['cosmo_params'][\"n_s\"]\n",
    "    m_nu = output['cosmo_params'][\"m_nu\"]\n",
    "    w = output['cosmo_params'][\"w\"]\n",
    "    As = output['cosmo_params'][\"A_s\"]\n",
    "    \n",
    "    nside = 1024\n",
    "    lmax = 2*nside\n",
    "    \n",
    "    pars = camb.set_params(H0=100*h, omch2=Oc*h**2, ombh2=Ob*h**2, ns=ns, mnu=m_nu, w=w, As=As, WantTransfer=True, NonLinear=camb.model.NonLinear_both)\n",
    "    Onu = pars.omeganu\n",
    "    Oc = Om - Ob - Onu\n",
    "    pars = camb.set_params(H0=100*h, omch2=Oc*h**2, ombh2=Ob*h**2, ns=ns, mnu=m_nu, w=w, As=As, WantTransfer=True, NonLinear=camb.model.NonLinear_both)\n",
    "    \n",
    "    sigma8 = camb.get_results(pars).get_sigma8()\n",
    "    if ~np.isclose(sigma8, output['cosmo_params']['sigma_8']):\n",
    "        print(f\"Simulation {i+1}\")"
   ]
  },
  {
   "cell_type": "code",
   "execution_count": null,
   "id": "0d474007-da20-4621-bdbf-08db2e831afc",
   "metadata": {},
   "outputs": [],
   "source": []
  }
 ],
 "metadata": {
  "kernelspec": {
   "display_name": "glass",
   "language": "python",
   "name": "glass"
  },
  "language_info": {
   "codemirror_mode": {
    "name": "ipython",
    "version": 3
   },
   "file_extension": ".py",
   "mimetype": "text/x-python",
   "name": "python",
   "nbconvert_exporter": "python",
   "pygments_lexer": "ipython3",
   "version": "3.12.8"
  }
 },
 "nbformat": 4,
 "nbformat_minor": 5
}
